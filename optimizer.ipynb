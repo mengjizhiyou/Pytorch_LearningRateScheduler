{
  "nbformat": 4,
  "nbformat_minor": 0,
  "metadata": {
    "colab": {
      "name": "optimizer.ipynb",
      "provenance": [],
      "collapsed_sections": []
    },
    "kernelspec": {
      "name": "python3",
      "display_name": "Python 3"
    },
    "language_info": {
      "name": "python"
    }
  },
  "cells": [
    {
      "cell_type": "markdown",
      "source": [
        "## 1 SGD"
      ],
      "metadata": {
        "id": "gEidnHOZxwW4"
      }
    },
    {
      "cell_type": "code",
      "execution_count": 1,
      "metadata": {
        "id": "Po5ebYOJbKSA"
      },
      "outputs": [],
      "source": [
        "from torch.nn.parameter import Parameter\n",
        "from torch.optim.lr_scheduler import ExponentialLR\n",
        "import torch\n",
        "from sklearn.datasets import make_regression\n",
        "from torch.utils.data import TensorDataset, DataLoader, Dataset\n",
        "import copy\n",
        "\n",
        "# 定义数据\n",
        "X,Y = make_regression(n_samples=10, n_features=1,n_targets=1,noise=1.5,random_state=1)\n",
        "dataset = TensorDataset(torch.from_numpy(X).float(), torch.from_numpy(Y).float())\n",
        "dataloader = DataLoader(dataset, shuffle=False, drop_last=True, batch_size=1)\n",
        "\n",
        "# 定义参数\n",
        "model = torch.nn.Linear(1,1)\n",
        "def optim(model, optim_fn, lr, weight_decay=0):   \n",
        "  model_ = copy.deepcopy(model)\n",
        "  # 提取第一个参数\n",
        "  w0 = [list(model_.weight)[0].data.numpy()[0]]\n",
        "  optimizer = optim_fn(model_.parameters(), lr=lr, weight_decay=weight_decay)\n",
        "  # scheduler = ExponentialLR(optimizer, gamma=0.9)\n",
        "  loss_fn = torch.nn.MSELoss()\n",
        "\n",
        "  for epoch in range(10):\n",
        "    for input, target in dataloader:\n",
        "      optimizer.zero_grad()\n",
        "      output = model_(input)\n",
        "      loss = loss_fn(output, target)\n",
        "      loss.backward()\n",
        "      optimizer.step()\n",
        "      w0.append(list(model_.weight)[0].data.numpy()[0])\n",
        "    # scheduler.step()\n",
        "  return w0"
      ]
    },
    {
      "cell_type": "code",
      "source": [
        "import matplotlib.pyplot as plt\n",
        "\n",
        "def plot(w_list, titles):\n",
        "  plt.figure(figsize=(len(titles)*6,5))\n",
        "  for i, w in enumerate(w_list):\n",
        "    plt.subplot(1,len(titles),i+1)\n",
        "    plt.plot(range(len(w)), w)\n",
        "    plt.title(titles[i])\n",
        "    plt.grid()\n",
        "    plt.yticks(range(0,5))\n",
        "    plt.xlabel('epochs*10')\n",
        "    plt.ylabel('weight')\n",
        "  plt.show()"
      ],
      "metadata": {
        "id": "o0gzJJzc2t6a"
      },
      "execution_count": 2,
      "outputs": []
    },
    {
      "cell_type": "code",
      "source": [
        "import warnings\n",
        "import functools\n",
        "from collections import defaultdict\n",
        "\n",
        "class CustomOptimizer:\n",
        "\n",
        "  def __init__(self,params,defaults):\n",
        "\n",
        "    self.defaults = defaults\n",
        "\n",
        "    \"\"\"\n",
        "    defaultdict的作用在于当字典里的key被查找但不存在时，\n",
        "        返回的不是keyError而是一个默认值，\n",
        "        此处defaultdict(dict)返回的默认值会是个空字典。\n",
        "    \"\"\"    \n",
        "    self.state = defaultdict(dict)\n",
        "\n",
        "    self.param_groups=[]\n",
        "    param_groups = list(params)\n",
        "\n",
        "    if len(param_groups)==0:\n",
        "      raise ValueError('optimizer got an empty parameter list')\n",
        "\n",
        "    if not isinstance(param_groups[0], dict):\n",
        "      param_groups = [{'params':param_groups}]\n",
        "\n",
        "    for param_group in param_groups:\n",
        "      self.add_param_group(param_group)\n",
        "\n",
        "  def add_param_group(self, param_group):\n",
        "    \"\"\"\n",
        "    作用是将param_group放进self.param_groups中\n",
        "    param_group是字典，Key是params，Value是param_groups=list(params)\n",
        "    \"\"\"\n",
        "\n",
        "    assert isinstance(param_group, dict), \"param group must be a dict\"\n",
        "\n",
        "    params = param_group['params']\n",
        "\n",
        "    if isinstance(params, torch.Tensor):\n",
        "      param_group['params'] = [params]\n",
        "    else:\n",
        "      param_group['params'] = list(params)\n",
        "    \n",
        "    \"\"\"将self.defaults中的键值对遍历放到字典param_group中\"\"\"\n",
        "    for name, default in self.defaults.items():\n",
        "      param_group.setdefault(name, default)\n",
        "    \n",
        "    params = param_group['params']\n",
        "\n",
        "    if len(params) != len(set(params)):\n",
        "      warnings.warn(\"optimizer contains a parameter group with duplicate parameters; \"\n",
        "                    \"in future, this will cause an error; \",stacklevel=3)\n",
        "\n",
        "    \"\"\"对self.param_groups和param_group中的元素进行判断，确保没有重复的参数\"\"\"\n",
        "    param_set = set()\n",
        "    for group in self.param_groups:\n",
        "        param_set.update(set(group['params']))\n",
        "\n",
        "    if not param_set.isdisjoint(set(param_group['params'])):\n",
        "        raise ValueError(\"some parameters appear in more than one parameter group\")\n",
        "\n",
        "    \"\"\"将字典param_group放进列表self.param_groups\"\"\"\n",
        "    self.param_groups.append(param_group)\n",
        "  \n",
        "  def __setstate__(self, state):\n",
        "    self.__dict__.update(state)\n",
        "\n",
        "  def __getstate__(self):\n",
        "    return {\n",
        "        'defaults': self.defaults,\n",
        "        'state': self.state,\n",
        "        'param_groups': self.param_groups,\n",
        "    }\n",
        "\n",
        "  def step(self, closure):\n",
        "    raise NotImplementedError\n",
        "\n",
        "  def zero_grad(self):\n",
        "    r\"\"\"将梯度置为零\"\"\"\n",
        "    for group in self.param_groups:\n",
        "      for p in group['params']:\n",
        "        if p.grad is not None:\n",
        "          p.grad.detach_()\n",
        "          p.grad.zero_()\n",
        "\n",
        "  def __repr__(self):\n",
        "    format_string = self.__class__.__name__ + ' ('\n",
        "    for i, group in enumerate(self.param_groups):\n",
        "      format_string += '\\n'\n",
        "      format_string += 'Parameter Group {0}\\n'.format(i)\n",
        "      for key in sorted(group.keys()):\n",
        "        if key != 'params':\n",
        "          format_string += '    {0}: {1}\\n'.format(key, group[key])\n",
        "    format_string += ')'\n",
        "    return format_string"
      ],
      "metadata": {
        "id": "ab_q4fVolSCk"
      },
      "execution_count": 3,
      "outputs": []
    },
    {
      "cell_type": "code",
      "source": [
        "class CustomSGD(CustomOptimizer):\n",
        "  def __init__(self,params,lr,momentum=0,dampening=0,weight_decay=0,nesterov=False,maximize=False):\n",
        "    \n",
        "    \"\"\"参数被打包进字典中命名为defaults\"\"\"\n",
        "    defaults = dict(lr=lr, momentum=momentum, dampening=dampening,\n",
        "            weight_decay=weight_decay, nesterov=nesterov, maximize=maximize)\n",
        "    super(CustomSGD, self).__init__(params, defaults)\n",
        "  \n",
        "  def __setstate__(self, state):\n",
        "    super(CustomSGD, self).__setstate__(state)\n",
        "    for group in self.param_groups:\n",
        "      group.setdefault('nesterov', False)\n",
        "      group.setdefault('maximize', False)\n",
        "  \n",
        "  @torch.no_grad()\n",
        "  def step(self, closure=None):\n",
        "    \"\"\"更新参数\n",
        "    Arguments:\n",
        "      closure (callable, optional): A closure that reevaluates the model\n",
        "          and returns the loss.\n",
        "    \"\"\"\n",
        "    loss = None\n",
        "    if closure is not None:\n",
        "        loss = closure()\n",
        "\n",
        "    \"\"\"self.param_groups 是在父类的__init__函数中创建的\"\"\"\n",
        "    for group in self.param_groups:\n",
        "      weight_decay = group['weight_decay']\n",
        "      momentum = group['momentum']\n",
        "      dampening = group['dampening']\n",
        "      nesterov = group['nesterov']\n",
        "      maximize = group['maximize']\n",
        "\n",
        "      for p in group['params']:\n",
        "        if p.grad is None: continue\n",
        "        d_p = p.grad.data\n",
        "        if weight_decay != 0:\n",
        "          d_p.add_(weight_decay, p.data)\n",
        "        if momentum != 0:\n",
        "          param_state = self.state[p]\n",
        "          if 'momentum_buffer' not in param_state:\n",
        "            buf = param_state['momentum_buffer'] = torch.clone(d_p).detach()\n",
        "          else:\n",
        "            buf = param_state['momentum_buffer']\n",
        "            buf.mul_(momentum).add_(1 - dampening, d_p)\n",
        "          if nesterov:\n",
        "            d_p = d_p.add(momentum, buf)\n",
        "          else:\n",
        "            d_p = buf\n",
        "        \n",
        "        # 对参数进行更新\n",
        "        if maximize:\n",
        "          p.data.add_(group['lr'], d_p)\n",
        "        else:\n",
        "          p.data.add_(-group['lr'], d_p)\n",
        "    return loss\n"
      ],
      "metadata": {
        "id": "D6Prn-t5lSGc"
      },
      "execution_count": 4,
      "outputs": []
    },
    {
      "cell_type": "code",
      "source": [
        "from torch.optim import SGD\n",
        "w0=optim(model, optim_fn=SGD, lr=0.1,weight_decay=0.5)\n",
        "w0_custom = optim(model, optim_fn=CustomSGD, lr=0.1,weight_decay=0.5)\n",
        "plot([w0,w0_custom], titles=['SGD','CustomSGD'])"
      ],
      "metadata": {
        "colab": {
          "base_uri": "https://localhost:8080/",
          "height": 474
        },
        "id": "be63kbt02uTH",
        "outputId": "be6819ab-abf5-43a5-94a2-e1f157cf91c1"
      },
      "execution_count": 5,
      "outputs": [
        {
          "output_type": "stream",
          "name": "stderr",
          "text": [
            "/usr/local/lib/python3.7/dist-packages/torch/nn/modules/loss.py:529: UserWarning: Using a target size (torch.Size([1])) that is different to the input size (torch.Size([1, 1])). This will likely lead to incorrect results due to broadcasting. Please ensure they have the same size.\n",
            "  return F.mse_loss(input, target, reduction=self.reduction)\n",
            "/usr/local/lib/python3.7/dist-packages/ipykernel_launcher.py:38: UserWarning: This overload of add_ is deprecated:\n",
            "\tadd_(Number alpha, Tensor other)\n",
            "Consider using one of the following signatures instead:\n",
            "\tadd_(Tensor other, *, Number alpha) (Triggered internally at  ../torch/csrc/utils/python_arg_parser.cpp:1055.)\n"
          ]
        },
        {
          "output_type": "display_data",
          "data": {
            "text/plain": [
              "<Figure size 864x360 with 2 Axes>"
            ],
            "image/png": "[encoded data removed]"
          },
          "metadata": {
            "needs_background": "light"
          }
        }
      ]
    },
    {
      "cell_type": "markdown",
      "source": [
        "## 2 Adam"
      ],
      "metadata": {
        "id": "z6_ZYD9wppY7"
      }
    },
    {
      "cell_type": "code",
      "source": [
        "import math\n",
        "\n",
        "class CustomAdam(CustomOptimizer):\n",
        "  def __init__(self, params,lr=0.001,betas=(0.9, 0.999),eps=1e-08,weight_decay=0,amsgrad=False,maximize=False):\n",
        "    defaults = dict(lr=lr, betas=betas, eps=eps,\n",
        "            weight_decay=weight_decay, amsgrad=amsgrad, maximize=maximize)\n",
        "    super(CustomAdam, self).__init__(params, defaults)\n",
        "  \n",
        "  def __setstate__(self, state):\n",
        "    super(CustomAdam, self).__setstate__(state)\n",
        "    for group in self.param_groups:\n",
        "      group.setdefault('amsgrad', False)\n",
        "      group.setdefault('maximize', False)\n",
        "  \n",
        "  @torch.no_grad()\n",
        "  def step(self, closure=None):\n",
        "    loss = None\n",
        "    if closure is not None:\n",
        "        loss = closure()\n",
        "\n",
        "    for group in self.param_groups:\n",
        "      for p in group['params']:\n",
        "        if p.grad is None: continue\n",
        "        \n",
        "        if group['maximize']:\n",
        "          grad = -p.grad.data\n",
        "        else:\n",
        "          grad = p.grad.data\n",
        "\n",
        "        if group['weight_decay'] != 0:\n",
        "          grad.add_(group['weight_decay'], p.data)\n",
        "        \n",
        "        \"\"\"Adam Optimizer只能处理dense gradient，\n",
        "        要想处理sparse gradient需要使用SparseAdam Optimizer\"\"\"\n",
        "        if grad.is_sparse:\n",
        "          raise RuntimeError('Adam does not support sparse gradients, '\n",
        "                    'please consider SparseAdam instead')\n",
        "        amsgrad = group['amsgrad']\n",
        "        state = self.state[p]\n",
        "\n",
        "        # 状态初始化\n",
        "        if len(state) == 0:\n",
        "          state['step'] = 0\n",
        "          # 梯度值的指数移动平均\n",
        "          state['exp_avg'] = torch.zeros_like(p.data)\n",
        "          # 梯度平方值的指数移动平均\n",
        "          state['exp_avg_sq'] = torch.zeros_like(p.data)\n",
        "          if amsgrad:\n",
        "            # 保留最大的梯度平均和梯度平方\n",
        "            state['max_exp_avg_sq'] = torch.zeros_like(p.data)\n",
        "\n",
        "        exp_avg, exp_avg_sq = state['exp_avg'], state['exp_avg_sq']\n",
        "        \n",
        "        if amsgrad:\n",
        "          max_exp_avg_sq = state['max_exp_avg_sq']\n",
        "        \n",
        "        beta1, beta2 = group['betas']\n",
        "\n",
        "        state['step'] += 1\n",
        "        bias_correction1 = 1 - beta1 ** state['step']\n",
        "        bias_correction2 = 1 - beta2 ** state['step']        \n",
        "\n",
        "        # Decay the first and second moment running average coefficient\n",
        "        exp_avg.mul_(beta1).add_(1 - beta1, grad)\n",
        "        exp_avg_sq.mul_(beta2).addcmul_(1 - beta2, grad, grad)\n",
        "        \n",
        "        if amsgrad:\n",
        "          # Maintains the maximum of all 2nd moment running avg. till now\n",
        "          torch.max(max_exp_avg_sq, exp_avg_sq, out=max_exp_avg_sq)\n",
        "          # Use the max. for normalizing running avg. of gradient\n",
        "          denom = (max_exp_avg_sq.sqrt() / math.sqrt(bias_correction2)).add_(group['eps'])\n",
        "        else:\n",
        "          denom = (exp_avg_sq.sqrt() / math.sqrt(bias_correction2)).add_(group['eps'])\n",
        "\n",
        "        step_size = group['lr'] / bias_correction1\n",
        "\n",
        "        p.data.addcdiv_(-step_size, exp_avg, denom)\n",
        "\n",
        "    return loss"
      ],
      "metadata": {
        "id": "fEMr8U5BpyBy"
      },
      "execution_count": 6,
      "outputs": []
    },
    {
      "cell_type": "code",
      "source": [
        "from torch.optim import Adam\n",
        "w0=optim(model, optim_fn=Adam, lr=0.1,weight_decay=0.5)\n",
        "w0_custom = optim(model, optim_fn=CustomAdam, lr=0.1,weight_decay=0.5)\n",
        "plot([w0,w0_custom], titles=['Adam','CustomAdam'])\n"
      ],
      "metadata": {
        "colab": {
          "base_uri": "https://localhost:8080/",
          "height": 405
        },
        "id": "7z6EWZsI99Y3",
        "outputId": "a84834fd-6094-4163-867d-4477e4477b13"
      },
      "execution_count": 7,
      "outputs": [
        {
          "output_type": "stream",
          "name": "stderr",
          "text": [
            "/usr/local/lib/python3.7/dist-packages/torch/nn/modules/loss.py:529: UserWarning: Using a target size (torch.Size([1])) that is different to the input size (torch.Size([1, 1])). This will likely lead to incorrect results due to broadcasting. Please ensure they have the same size.\n",
            "  return F.mse_loss(input, target, reduction=self.reduction)\n"
          ]
        },
        {
          "output_type": "display_data",
          "data": {
            "text/plain": [
              "<Figure size 864x360 with 2 Axes>"
            ],
            "image/png": "[encoded data removed]"
          },
          "metadata": {
            "needs_background": "light"
          }
        }
      ]
    },
    {
      "cell_type": "markdown",
      "source": [
        "## 3 SWA"
      ],
      "metadata": {
        "id": "oT252k4RlOqM"
      }
    },
    {
      "cell_type": "code",
      "source": [
        "# !pip install torchcontrib\n",
        "import torchcontrib\n",
        "model_ = copy.deepcopy(model)\n",
        "base_opt = SGD(model_.parameters(), 0.01)\n",
        "opt = torchcontrib.optim.SWA(base_opt)\n",
        "loss_fn = torch.nn.MSELoss()\n",
        "for epoch in range(10):\n",
        "  for i, (input, target) in enumerate(dataloader):\n",
        "    opt.zero_grad()\n",
        "    output = model_(input)\n",
        "    loss = loss_fn(output, target)\n",
        "    loss.backward()\n",
        "    opt.step()\n",
        "    if i > 10 and i % 5 == 0:\n",
        "      opt.update_swa()\n",
        "  opt.swap_swa_sgd()"
      ],
      "metadata": {
        "colab": {
          "base_uri": "https://localhost:8080/",
          "height": 378
        },
        "id": "JOd8IOwz9zjY",
        "outputId": "9c3a618d-c79f-4ac7-e76e-f11dcf40b5e0"
      },
      "execution_count": 8,
      "outputs": [
        {
          "output_type": "error",
          "ename": "ModuleNotFoundError",
          "evalue": "ignored",
          "traceback": [
            "\u001b[0;31m---------------------------------------------------------------------------\u001b[0m",
            "\u001b[0;31mModuleNotFoundError\u001b[0m                       Traceback (most recent call last)",
            "\u001b[0;32m<ipython-input-8-33ea8d618b06>\u001b[0m in \u001b[0;36m<module>\u001b[0;34m()\u001b[0m\n\u001b[1;32m      1\u001b[0m \u001b[0;31m# !pip install torchcontrib\u001b[0m\u001b[0;34m\u001b[0m\u001b[0;34m\u001b[0m\u001b[0;34m\u001b[0m\u001b[0m\n\u001b[0;32m----> 2\u001b[0;31m \u001b[0;32mimport\u001b[0m \u001b[0mtorchcontrib\u001b[0m\u001b[0;34m\u001b[0m\u001b[0;34m\u001b[0m\u001b[0m\n\u001b[0m\u001b[1;32m      3\u001b[0m \u001b[0mmodel_\u001b[0m \u001b[0;34m=\u001b[0m \u001b[0mcopy\u001b[0m\u001b[0;34m.\u001b[0m\u001b[0mdeepcopy\u001b[0m\u001b[0;34m(\u001b[0m\u001b[0mmodel\u001b[0m\u001b[0;34m)\u001b[0m\u001b[0;34m\u001b[0m\u001b[0;34m\u001b[0m\u001b[0m\n\u001b[1;32m      4\u001b[0m \u001b[0mbase_opt\u001b[0m \u001b[0;34m=\u001b[0m \u001b[0mSGD\u001b[0m\u001b[0;34m(\u001b[0m\u001b[0mmodel_\u001b[0m\u001b[0;34m.\u001b[0m\u001b[0mparameters\u001b[0m\u001b[0;34m(\u001b[0m\u001b[0;34m)\u001b[0m\u001b[0;34m,\u001b[0m \u001b[0;36m0.01\u001b[0m\u001b[0;34m)\u001b[0m\u001b[0;34m\u001b[0m\u001b[0;34m\u001b[0m\u001b[0m\n\u001b[1;32m      5\u001b[0m \u001b[0mopt\u001b[0m \u001b[0;34m=\u001b[0m \u001b[0mtorchcontrib\u001b[0m\u001b[0;34m.\u001b[0m\u001b[0moptim\u001b[0m\u001b[0;34m.\u001b[0m\u001b[0mSWA\u001b[0m\u001b[0;34m(\u001b[0m\u001b[0mbase_opt\u001b[0m\u001b[0;34m)\u001b[0m\u001b[0;34m\u001b[0m\u001b[0;34m\u001b[0m\u001b[0m\n",
            "\u001b[0;31mModuleNotFoundError\u001b[0m: No module named 'torchcontrib'",
            "",
            "\u001b[0;31m---------------------------------------------------------------------------\u001b[0;32m\nNOTE: If your import is failing due to a missing package, you can\nmanually install dependencies using either !pip or !apt.\n\nTo view examples of installing some common dependencies, click the\n\"Open Examples\" button below.\n\u001b[0;31m---------------------------------------------------------------------------\u001b[0m\n"
          ],
          "errorDetails": {
            "actions": [
              {
                "action": "open_url",
                "actionText": "Open Examples",
                "url": "/notebooks/snippets/importing_libraries.ipynb"
              }
            ]
          }
        }
      ]
    }
  ]
}